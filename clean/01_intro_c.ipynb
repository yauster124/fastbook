{
  "nbformat": 4,
  "nbformat_minor": 0,
  "metadata": {
    "jupytext": {
      "split_at_heading": true
    },
    "kernelspec": {
      "display_name": "Python 3",
      "language": "python",
      "name": "python3"
    },
    "colab": {
      "name": "01_intro.ipynb",
      "provenance": []
    },
    "accelerator": "GPU",
    "widgets": {
      "application/vnd.jupyter.widget-state+json": {
        "8b803e87feed44ac95884ac7156e69b2": {
          "model_module": "@jupyter-widgets/controls",
          "model_name": "HBoxModel",
          "state": {
            "_view_name": "HBoxView",
            "_dom_classes": [],
            "_model_name": "HBoxModel",
            "_view_module": "@jupyter-widgets/controls",
            "_model_module_version": "1.5.0",
            "_view_count": null,
            "_view_module_version": "1.5.0",
            "box_style": "",
            "layout": "IPY_MODEL_a9ddac6c604b46bf8ebff18d787b3207",
            "_model_module": "@jupyter-widgets/controls",
            "children": [
              "IPY_MODEL_fd0244c2abc542b489fc7d864b9bf74b",
              "IPY_MODEL_2a86f86e97eb4a59b3b309d6db777399"
            ]
          }
        },
        "a9ddac6c604b46bf8ebff18d787b3207": {
          "model_module": "@jupyter-widgets/base",
          "model_name": "LayoutModel",
          "state": {
            "_view_name": "LayoutView",
            "grid_template_rows": null,
            "right": null,
            "justify_content": null,
            "_view_module": "@jupyter-widgets/base",
            "overflow": null,
            "_model_module_version": "1.2.0",
            "_view_count": null,
            "flex_flow": null,
            "width": null,
            "min_width": null,
            "border": null,
            "align_items": null,
            "bottom": null,
            "_model_module": "@jupyter-widgets/base",
            "top": null,
            "grid_column": null,
            "overflow_y": null,
            "overflow_x": null,
            "grid_auto_flow": null,
            "grid_area": null,
            "grid_template_columns": null,
            "flex": null,
            "_model_name": "LayoutModel",
            "justify_items": null,
            "grid_row": null,
            "max_height": null,
            "align_content": null,
            "visibility": null,
            "align_self": null,
            "height": null,
            "min_height": null,
            "padding": null,
            "grid_auto_rows": null,
            "grid_gap": null,
            "max_width": null,
            "order": null,
            "_view_module_version": "1.2.0",
            "grid_template_areas": null,
            "object_position": null,
            "object_fit": null,
            "grid_auto_columns": null,
            "margin": null,
            "display": null,
            "left": null
          }
        },
        "fd0244c2abc542b489fc7d864b9bf74b": {
          "model_module": "@jupyter-widgets/controls",
          "model_name": "FloatProgressModel",
          "state": {
            "_view_name": "ProgressView",
            "style": "IPY_MODEL_964365ce8649412a809302fffa320a55",
            "_dom_classes": [],
            "description": "100%",
            "_model_name": "FloatProgressModel",
            "bar_style": "success",
            "max": 87306240,
            "_view_module": "@jupyter-widgets/controls",
            "_model_module_version": "1.5.0",
            "value": 87306240,
            "_view_count": null,
            "_view_module_version": "1.5.0",
            "orientation": "horizontal",
            "min": 0,
            "description_tooltip": null,
            "_model_module": "@jupyter-widgets/controls",
            "layout": "IPY_MODEL_1ff3b9c1b52c4cf08371d979fc652819"
          }
        },
        "2a86f86e97eb4a59b3b309d6db777399": {
          "model_module": "@jupyter-widgets/controls",
          "model_name": "HTMLModel",
          "state": {
            "_view_name": "HTMLView",
            "style": "IPY_MODEL_6418a954456f4c8b9b5a3deee236c2aa",
            "_dom_classes": [],
            "description": "",
            "_model_name": "HTMLModel",
            "placeholder": "​",
            "_view_module": "@jupyter-widgets/controls",
            "_model_module_version": "1.5.0",
            "value": " 83.3M/83.3M [00:01&lt;00:00, 49.2MB/s]",
            "_view_count": null,
            "_view_module_version": "1.5.0",
            "description_tooltip": null,
            "_model_module": "@jupyter-widgets/controls",
            "layout": "IPY_MODEL_524e576b62a245f6ab93c26fa19132e9"
          }
        },
        "964365ce8649412a809302fffa320a55": {
          "model_module": "@jupyter-widgets/controls",
          "model_name": "ProgressStyleModel",
          "state": {
            "_view_name": "StyleView",
            "_model_name": "ProgressStyleModel",
            "description_width": "initial",
            "_view_module": "@jupyter-widgets/base",
            "_model_module_version": "1.5.0",
            "_view_count": null,
            "_view_module_version": "1.2.0",
            "bar_color": null,
            "_model_module": "@jupyter-widgets/controls"
          }
        },
        "1ff3b9c1b52c4cf08371d979fc652819": {
          "model_module": "@jupyter-widgets/base",
          "model_name": "LayoutModel",
          "state": {
            "_view_name": "LayoutView",
            "grid_template_rows": null,
            "right": null,
            "justify_content": null,
            "_view_module": "@jupyter-widgets/base",
            "overflow": null,
            "_model_module_version": "1.2.0",
            "_view_count": null,
            "flex_flow": null,
            "width": null,
            "min_width": null,
            "border": null,
            "align_items": null,
            "bottom": null,
            "_model_module": "@jupyter-widgets/base",
            "top": null,
            "grid_column": null,
            "overflow_y": null,
            "overflow_x": null,
            "grid_auto_flow": null,
            "grid_area": null,
            "grid_template_columns": null,
            "flex": null,
            "_model_name": "LayoutModel",
            "justify_items": null,
            "grid_row": null,
            "max_height": null,
            "align_content": null,
            "visibility": null,
            "align_self": null,
            "height": null,
            "min_height": null,
            "padding": null,
            "grid_auto_rows": null,
            "grid_gap": null,
            "max_width": null,
            "order": null,
            "_view_module_version": "1.2.0",
            "grid_template_areas": null,
            "object_position": null,
            "object_fit": null,
            "grid_auto_columns": null,
            "margin": null,
            "display": null,
            "left": null
          }
        },
        "6418a954456f4c8b9b5a3deee236c2aa": {
          "model_module": "@jupyter-widgets/controls",
          "model_name": "DescriptionStyleModel",
          "state": {
            "_view_name": "StyleView",
            "_model_name": "DescriptionStyleModel",
            "description_width": "",
            "_view_module": "@jupyter-widgets/base",
            "_model_module_version": "1.5.0",
            "_view_count": null,
            "_view_module_version": "1.2.0",
            "_model_module": "@jupyter-widgets/controls"
          }
        },
        "524e576b62a245f6ab93c26fa19132e9": {
          "model_module": "@jupyter-widgets/base",
          "model_name": "LayoutModel",
          "state": {
            "_view_name": "LayoutView",
            "grid_template_rows": null,
            "right": null,
            "justify_content": null,
            "_view_module": "@jupyter-widgets/base",
            "overflow": null,
            "_model_module_version": "1.2.0",
            "_view_count": null,
            "flex_flow": null,
            "width": null,
            "min_width": null,
            "border": null,
            "align_items": null,
            "bottom": null,
            "_model_module": "@jupyter-widgets/base",
            "top": null,
            "grid_column": null,
            "overflow_y": null,
            "overflow_x": null,
            "grid_auto_flow": null,
            "grid_area": null,
            "grid_template_columns": null,
            "flex": null,
            "_model_name": "LayoutModel",
            "justify_items": null,
            "grid_row": null,
            "max_height": null,
            "align_content": null,
            "visibility": null,
            "align_self": null,
            "height": null,
            "min_height": null,
            "padding": null,
            "grid_auto_rows": null,
            "grid_gap": null,
            "max_width": null,
            "order": null,
            "_view_module_version": "1.2.0",
            "grid_template_areas": null,
            "object_position": null,
            "object_fit": null,
            "grid_auto_columns": null,
            "margin": null,
            "display": null,
            "left": null
          }
        }
      }
    }
  },
  "cells": [
    {
      "cell_type": "code",
      "metadata": {
        "id": "zcBAGTgmTloe",
        "outputId": "6d40c203-5717-4500-9c12-b0335da1e92b",
        "colab": {
          "base_uri": "https://localhost:8080/"
        }
      },
      "source": [
        "#hide\n",
        "!pip install -Uqq fastbook\n",
        "import fastbook\n",
        "fastbook.setup_book()"
      ],
      "execution_count": 1,
      "outputs": [
        {
          "output_type": "stream",
          "text": [
            "\u001b[K     |████████████████████████████████| 727kB 6.1MB/s \n",
            "\u001b[K     |████████████████████████████████| 51kB 8.6MB/s \n",
            "\u001b[K     |████████████████████████████████| 194kB 21.6MB/s \n",
            "\u001b[K     |████████████████████████████████| 1.2MB 21.5MB/s \n",
            "\u001b[K     |████████████████████████████████| 61kB 7.4MB/s \n",
            "\u001b[?25hMounted at /content/gdrive\n"
          ],
          "name": "stdout"
        }
      ]
    },
    {
      "cell_type": "code",
      "metadata": {
        "id": "UdDCLy3ETlok"
      },
      "source": [
        "#hide\n",
        "from fastbook import *"
      ],
      "execution_count": 2,
      "outputs": []
    },
    {
      "cell_type": "markdown",
      "metadata": {
        "id": "Fa3vGLskTlol"
      },
      "source": [
        "# Your Deep Learning Journey"
      ]
    },
    {
      "cell_type": "markdown",
      "metadata": {
        "id": "0XWKrZYnTlol"
      },
      "source": [
        "## Deep Learning Is for Everyone"
      ]
    },
    {
      "cell_type": "markdown",
      "metadata": {
        "id": "uYsgxxGqTlom"
      },
      "source": [
        "## Neural Networks: A Brief History"
      ]
    },
    {
      "cell_type": "markdown",
      "metadata": {
        "id": "7CdOqF61Tlom"
      },
      "source": [
        "## Who We Are"
      ]
    },
    {
      "cell_type": "markdown",
      "metadata": {
        "id": "lTE69L7eTlon"
      },
      "source": [
        "## How to Learn Deep Learning"
      ]
    },
    {
      "cell_type": "markdown",
      "metadata": {
        "id": "PDU69t1MTlon"
      },
      "source": [
        "### Your Projects and Your Mindset"
      ]
    },
    {
      "cell_type": "markdown",
      "metadata": {
        "id": "OKJ7z1QBTlon"
      },
      "source": [
        "## The Software: PyTorch, fastai, and Jupyter"
      ]
    },
    {
      "cell_type": "markdown",
      "metadata": {
        "id": "F2XvZQb5Tloo"
      },
      "source": [
        "## Your First Model"
      ]
    },
    {
      "cell_type": "markdown",
      "metadata": {
        "id": "1A85qD_ATloo"
      },
      "source": [
        "### Getting a GPU Deep Learning Server"
      ]
    },
    {
      "cell_type": "markdown",
      "metadata": {
        "id": "2qafnRTCTlop"
      },
      "source": [
        "### Running Your First Notebook"
      ]
    },
    {
      "cell_type": "code",
      "metadata": {
        "id": "Bso2_ObJTlop"
      },
      "source": [
        "# CLICK ME\n",
        "from fastai.vision.all import *\n",
        "path = untar_data(URLs.PETS)/'images'\n",
        "\n",
        "def is_cat(x): return x[0].isupper()\n",
        "dls = ImageDataLoaders.from_name_func(\n",
        "    path, get_image_files(path), valid_pct=0.2, seed=42,\n",
        "    label_func=is_cat, item_tfms=Resize(224))\n",
        "\n",
        "learn = cnn_learner(dls, resnet34, metrics=error_rate)\n",
        "learn.fine_tune(1)"
      ],
      "execution_count": null,
      "outputs": []
    },
    {
      "cell_type": "markdown",
      "metadata": {
        "id": "0aVLpcQDTloq"
      },
      "source": [
        "### Sidebar: This Book Was Written in Jupyter Notebooks"
      ]
    },
    {
      "cell_type": "code",
      "metadata": {
        "id": "tUu4-rCXUk1n",
        "colab": {
          "base_uri": "https://localhost:8080/"
        },
        "outputId": "6469bbe5-16bc-4147-bbd5-f16a3a1bd653"
      },
      "source": [
        "[i for i in range(20)]"
      ],
      "execution_count": null,
      "outputs": [
        {
          "output_type": "execute_result",
          "data": {
            "text/plain": [
              "[0, 1, 2, 3, 4, 5, 6, 7, 8, 9, 10, 11, 12, 13, 14, 15, 16, 17, 18, 19]"
            ]
          },
          "metadata": {
            "tags": []
          },
          "execution_count": 1
        }
      ]
    },
    {
      "cell_type": "code",
      "metadata": {
        "id": "Ed8Ega76Tloq"
      },
      "source": [
        "1+1"
      ],
      "execution_count": null,
      "outputs": []
    },
    {
      "cell_type": "code",
      "metadata": {
        "id": "4WUWbrXUTloq"
      },
      "source": [
        "img = PILImage.create(image_cat())\n",
        "img.to_thumb(192)"
      ],
      "execution_count": null,
      "outputs": []
    },
    {
      "cell_type": "markdown",
      "metadata": {
        "id": "noRpMc09Tlor"
      },
      "source": [
        "### End sidebar"
      ]
    },
    {
      "cell_type": "code",
      "metadata": {
        "id": "f9Xw_3jwTlor"
      },
      "source": [
        "uploader = widgets.FileUpload()\n",
        "uploader"
      ],
      "execution_count": null,
      "outputs": []
    },
    {
      "cell_type": "code",
      "metadata": {
        "id": "Lo4SUV4jTlor"
      },
      "source": [
        "#hide\n",
        "# For the book, we can't actually click an upload button, so we fake it\n",
        "uploader = SimpleNamespace(data = ['images/chapter1_cat_example.jpg'])"
      ],
      "execution_count": null,
      "outputs": []
    },
    {
      "cell_type": "code",
      "metadata": {
        "id": "m6T6KparTlos"
      },
      "source": [
        "img = PILImage.create(uploader.data[0])\n",
        "is_cat,_,probs = learn.predict(img)\n",
        "print(f\"Is this a cat?: {is_cat}.\")\n",
        "print(f\"Probability it's a cat: {probs[1].item():.6f}\")"
      ],
      "execution_count": null,
      "outputs": []
    },
    {
      "cell_type": "markdown",
      "metadata": {
        "id": "KzfN-mQRTlos"
      },
      "source": [
        "### What Is Machine Learning?"
      ]
    },
    {
      "cell_type": "code",
      "metadata": {
        "id": "TukqAjJnTlos"
      },
      "source": [
        "gv('''program[shape=box3d width=1 height=0.7]\n",
        "inputs->program->results''')"
      ],
      "execution_count": null,
      "outputs": []
    },
    {
      "cell_type": "code",
      "metadata": {
        "id": "FOYnR6XqTlot"
      },
      "source": [
        "gv('''model[shape=box3d width=1 height=0.7]\n",
        "inputs->model->results; weights->model''')"
      ],
      "execution_count": null,
      "outputs": []
    },
    {
      "cell_type": "code",
      "metadata": {
        "id": "HUDoJPzoTlot"
      },
      "source": [
        "gv('''ordering=in\n",
        "model[shape=box3d width=1 height=0.7]\n",
        "inputs->model->results; weights->model; results->performance\n",
        "performance->weights[constraint=false label=update]''')"
      ],
      "execution_count": null,
      "outputs": []
    },
    {
      "cell_type": "code",
      "metadata": {
        "id": "UjIOWxI6Tlou"
      },
      "source": [
        "gv('''model[shape=box3d width=1 height=0.7]\n",
        "inputs->model->results''')"
      ],
      "execution_count": null,
      "outputs": []
    },
    {
      "cell_type": "markdown",
      "metadata": {
        "id": "wbglB6sATlou"
      },
      "source": [
        "### What Is a Neural Network?"
      ]
    },
    {
      "cell_type": "markdown",
      "metadata": {
        "id": "wN4PADKyTlov"
      },
      "source": [
        "### A Bit of Deep Learning Jargon"
      ]
    },
    {
      "cell_type": "code",
      "metadata": {
        "id": "vJOXcy6xTlov"
      },
      "source": [
        "gv('''ordering=in\n",
        "model[shape=box3d width=1 height=0.7 label=architecture]\n",
        "inputs->model->predictions; parameters->model; labels->loss; predictions->loss\n",
        "loss->parameters[constraint=false label=update]''')"
      ],
      "execution_count": null,
      "outputs": []
    },
    {
      "cell_type": "markdown",
      "metadata": {
        "id": "H0SS5blBTlow"
      },
      "source": [
        "### Limitations Inherent To Machine Learning\n",
        "\n",
        "From this picture we can now see some fundamental things about training a deep learning model:\n",
        "\n",
        "- A model cannot be created without data.\n",
        "- A model can only learn to operate on the patterns seen in the input data used to train it.\n",
        "- This learning approach only creates *predictions*, not recommended *actions*.\n",
        "- It's not enough to just have examples of input data; we need *labels* for that data too (e.g., pictures of dogs and cats aren't enough to train a model; we need a label for each one, saying which ones are dogs, and which are cats).\n",
        "\n",
        "Generally speaking, we've seen that most organizations that say they don't have enough data, actually mean they don't have enough *labeled* data. If any organization is interested in doing something in practice with a model, then presumably they have some inputs they plan to run their model against. And presumably they've been doing that some other way for a while (e.g., manually, or with some heuristic program), so they have data from those processes! For instance, a radiology practice will almost certainly have an archive of medical scans (since they need to be able to check how their patients are progressing over time), but those scans may not have structured labels containing a list of diagnoses or interventions (since radiologists generally create free-text natural language reports, not structured data). We'll be discussing labeling approaches a lot in this book, because it's such an important issue in practice.\n",
        "\n",
        "Since these kinds of machine learning models can only make *predictions* (i.e., attempt to replicate labels), this can result in a significant gap between organizational goals and model capabilities. For instance, in this book you'll learn how to create a *recommendation system* that can predict what products a user might purchase. This is often used in e-commerce, such as to customize products shown on a home page by showing the highest-ranked items. But such a model is generally created by looking at a user and their buying history (*inputs*) and what they went on to buy or look at (*labels*), which means that the model is likely to tell you about products the user already has or already knows about, rather than new products that they are most likely to be interested in hearing about. That's very different to what, say, an expert at your local bookseller might do, where they ask questions to figure out your taste, and then tell you about authors or series that you've never heard of before."
      ]
    },
    {
      "cell_type": "markdown",
      "metadata": {
        "id": "PjEIjHnDTlow"
      },
      "source": [
        "### How Our Image Recognizer Works"
      ]
    },
    {
      "cell_type": "markdown",
      "metadata": {
        "id": "UFZV6uToTlox"
      },
      "source": [
        "### What Our Image Recognizer Learned"
      ]
    },
    {
      "cell_type": "markdown",
      "metadata": {
        "id": "86a4IO8KTlox"
      },
      "source": [
        "### Image Recognizers Can Tackle Non-Image Tasks"
      ]
    },
    {
      "cell_type": "markdown",
      "metadata": {
        "id": "Mb2OKxFfTlox"
      },
      "source": [
        "### Jargon Recap"
      ]
    },
    {
      "cell_type": "markdown",
      "metadata": {
        "id": "Q01NmzzrTlox"
      },
      "source": [
        "## Deep Learning Is Not Just for Image Classification"
      ]
    },
    {
      "cell_type": "code",
      "metadata": {
        "id": "AtiDtKoyTloy",
        "outputId": "43ece3d0-fe71-4d6b-e2ea-ede6a19c613d",
        "colab": {
          "base_uri": "https://localhost:8080/",
          "height": 426,
          "referenced_widgets": [
            "8b803e87feed44ac95884ac7156e69b2",
            "a9ddac6c604b46bf8ebff18d787b3207",
            "fd0244c2abc542b489fc7d864b9bf74b",
            "2a86f86e97eb4a59b3b309d6db777399",
            "964365ce8649412a809302fffa320a55",
            "1ff3b9c1b52c4cf08371d979fc652819",
            "6418a954456f4c8b9b5a3deee236c2aa",
            "524e576b62a245f6ab93c26fa19132e9"
          ]
        }
      },
      "source": [
        "path = untar_data(URLs.CAMVID_TINY)\n",
        "dls = SegmentationDataLoaders.from_label_func(\n",
        "    path, bs=8, fnames = get_image_files(path/\"images\"),\n",
        "    label_func = lambda o: path/'labels'/f'{o.stem}_P{o.suffix}',\n",
        "    codes = np.loadtxt(path/'codes.txt', dtype=str)\n",
        ")\n",
        "\n",
        "learn = unet_learner(dls, resnet34)\n",
        "learn.fine_tune(8)"
      ],
      "execution_count": 3,
      "outputs": [
        {
          "output_type": "display_data",
          "data": {
            "text/html": [
              ""
            ],
            "text/plain": [
              "<IPython.core.display.HTML object>"
            ]
          },
          "metadata": {
            "tags": []
          }
        },
        {
          "output_type": "stream",
          "text": [
            "Downloading: \"https://download.pytorch.org/models/resnet34-333f7ec4.pth\" to /root/.cache/torch/hub/checkpoints/resnet34-333f7ec4.pth\n"
          ],
          "name": "stderr"
        },
        {
          "output_type": "display_data",
          "data": {
            "application/vnd.jupyter.widget-view+json": {
              "model_id": "8b803e87feed44ac95884ac7156e69b2",
              "version_minor": 0,
              "version_major": 2
            },
            "text/plain": [
              "HBox(children=(FloatProgress(value=0.0, max=87306240.0), HTML(value='')))"
            ]
          },
          "metadata": {
            "tags": []
          }
        },
        {
          "output_type": "stream",
          "text": [
            "\n"
          ],
          "name": "stdout"
        },
        {
          "output_type": "display_data",
          "data": {
            "text/html": [
              "<table border=\"1\" class=\"dataframe\">\n",
              "  <thead>\n",
              "    <tr style=\"text-align: left;\">\n",
              "      <th>epoch</th>\n",
              "      <th>train_loss</th>\n",
              "      <th>valid_loss</th>\n",
              "      <th>time</th>\n",
              "    </tr>\n",
              "  </thead>\n",
              "  <tbody>\n",
              "    <tr>\n",
              "      <td>0</td>\n",
              "      <td>2.596846</td>\n",
              "      <td>2.205088</td>\n",
              "      <td>00:02</td>\n",
              "    </tr>\n",
              "  </tbody>\n",
              "</table>"
            ],
            "text/plain": [
              "<IPython.core.display.HTML object>"
            ]
          },
          "metadata": {
            "tags": []
          }
        },
        {
          "output_type": "display_data",
          "data": {
            "text/html": [
              "<table border=\"1\" class=\"dataframe\">\n",
              "  <thead>\n",
              "    <tr style=\"text-align: left;\">\n",
              "      <th>epoch</th>\n",
              "      <th>train_loss</th>\n",
              "      <th>valid_loss</th>\n",
              "      <th>time</th>\n",
              "    </tr>\n",
              "  </thead>\n",
              "  <tbody>\n",
              "    <tr>\n",
              "      <td>0</td>\n",
              "      <td>1.786359</td>\n",
              "      <td>1.462212</td>\n",
              "      <td>00:02</td>\n",
              "    </tr>\n",
              "    <tr>\n",
              "      <td>1</td>\n",
              "      <td>1.543504</td>\n",
              "      <td>1.201618</td>\n",
              "      <td>00:02</td>\n",
              "    </tr>\n",
              "    <tr>\n",
              "      <td>2</td>\n",
              "      <td>1.404131</td>\n",
              "      <td>1.057722</td>\n",
              "      <td>00:02</td>\n",
              "    </tr>\n",
              "    <tr>\n",
              "      <td>3</td>\n",
              "      <td>1.316610</td>\n",
              "      <td>0.946056</td>\n",
              "      <td>00:02</td>\n",
              "    </tr>\n",
              "    <tr>\n",
              "      <td>4</td>\n",
              "      <td>1.197783</td>\n",
              "      <td>0.829671</td>\n",
              "      <td>00:02</td>\n",
              "    </tr>\n",
              "    <tr>\n",
              "      <td>5</td>\n",
              "      <td>1.087278</td>\n",
              "      <td>0.786059</td>\n",
              "      <td>00:02</td>\n",
              "    </tr>\n",
              "    <tr>\n",
              "      <td>6</td>\n",
              "      <td>0.995415</td>\n",
              "      <td>0.752491</td>\n",
              "      <td>00:02</td>\n",
              "    </tr>\n",
              "    <tr>\n",
              "      <td>7</td>\n",
              "      <td>0.922991</td>\n",
              "      <td>0.742212</td>\n",
              "      <td>00:02</td>\n",
              "    </tr>\n",
              "  </tbody>\n",
              "</table>"
            ],
            "text/plain": [
              "<IPython.core.display.HTML object>"
            ]
          },
          "metadata": {
            "tags": []
          }
        }
      ]
    },
    {
      "cell_type": "code",
      "metadata": {
        "id": "8vbHMt6nTloy",
        "outputId": "2ed18d6e-04ff-4207-cecc-ece302e0c395",
        "colab": {
          "base_uri": "https://localhost:8080/",
          "height": 491
        }
      },
      "source": [
        "learn.show_results(max_n=6, figsize=(7,8))"
      ],
      "execution_count": 4,
      "outputs": [
        {
          "output_type": "display_data",
          "data": {
            "text/html": [
              ""
            ],
            "text/plain": [
              "<IPython.core.display.HTML object>"
            ]
          },
          "metadata": {
            "tags": []
          }
        },
        {
          "output_type": "display_data",
          "data": {
            "image/png": "[encoded data removed]",
            "text/plain": [
              "<Figure size 504x576 with 4 Axes>"
            ]
          },
          "metadata": {
            "tags": [],
            "needs_background": "light"
          }
        }
      ]
    },
    {
      "cell_type": "code",
      "metadata": {
        "id": "nwdB37ycTloy"
      },
      "source": [
        "from fastai.text.all import *\n",
        "\n",
        "dls = TextDataLoaders.from_folder(untar_data(URLs.IMDB), valid='test')\n",
        "learn = text_classifier_learner(dls, AWD_LSTM, drop_mult=0.5, metrics=accuracy)\n",
        "learn.fine_tune(4, 1e-2)"
      ],
      "execution_count": null,
      "outputs": []
    },
    {
      "cell_type": "markdown",
      "metadata": {
        "id": "J_7elodQTloy"
      },
      "source": [
        "If you hit a \"CUDA out of memory error\" after running this cell, click on the menu Kernel, then restart. Instead of executing the cell above, copy and paste the following code in it:\n",
        "\n",
        "```\n",
        "from fastai.text.all import *\n",
        "\n",
        "dls = TextDataLoaders.from_folder(untar_data(URLs.IMDB), valid='test', bs=32)\n",
        "learn = text_classifier_learner(dls, AWD_LSTM, drop_mult=0.5, metrics=accuracy)\n",
        "learn.fine_tune(4, 1e-2)\n",
        "```\n",
        "\n",
        "This reduces the batch size to 32 (we will explain this later). If you keep hitting the same error, change 32 to 16."
      ]
    },
    {
      "cell_type": "code",
      "metadata": {
        "id": "4ZW8nOV0Tloz"
      },
      "source": [
        "learn.predict(\"I really liked that movie!\")"
      ],
      "execution_count": null,
      "outputs": []
    },
    {
      "cell_type": "markdown",
      "metadata": {
        "id": "Qf4FnXY9Tloz"
      },
      "source": [
        "### Sidebar: The Order Matters"
      ]
    },
    {
      "cell_type": "markdown",
      "metadata": {
        "id": "MOdHx1cWTlo0"
      },
      "source": [
        "### End sidebar"
      ]
    },
    {
      "cell_type": "code",
      "metadata": {
        "id": "R8DGSKApTlo2"
      },
      "source": [
        "from fastai.tabular.all import *\n",
        "path = untar_data(URLs.ADULT_SAMPLE)\n",
        "\n",
        "dls = TabularDataLoaders.from_csv(path/'adult.csv', path=path, y_names=\"salary\",\n",
        "    cat_names = ['workclass', 'education', 'marital-status', 'occupation',\n",
        "                 'relationship', 'race'],\n",
        "    cont_names = ['age', 'fnlwgt', 'education-num'],\n",
        "    procs = [Categorify, FillMissing, Normalize])\n",
        "\n",
        "learn = tabular_learner(dls, metrics=accuracy)"
      ],
      "execution_count": null,
      "outputs": []
    },
    {
      "cell_type": "code",
      "metadata": {
        "id": "PsYGmJ4xTlo2"
      },
      "source": [
        "learn.fit_one_cycle(3)"
      ],
      "execution_count": null,
      "outputs": []
    },
    {
      "cell_type": "code",
      "metadata": {
        "id": "TEJlFDTbTlo2"
      },
      "source": [
        "from fastai.collab import *\n",
        "path = untar_data(URLs.ML_SAMPLE)\n",
        "dls = CollabDataLoaders.from_csv(path/'ratings.csv')\n",
        "learn = collab_learner(dls, y_range=(0.5,5.5))\n",
        "learn.fine_tune(10)"
      ],
      "execution_count": null,
      "outputs": []
    },
    {
      "cell_type": "code",
      "metadata": {
        "id": "-zh3mwgyTlo2"
      },
      "source": [
        "learn.show_results()"
      ],
      "execution_count": null,
      "outputs": []
    },
    {
      "cell_type": "markdown",
      "metadata": {
        "id": "9gEpRBzJTlo3"
      },
      "source": [
        "### Sidebar: Datasets: Food for Models"
      ]
    },
    {
      "cell_type": "markdown",
      "metadata": {
        "id": "nwYteXjjTlo3"
      },
      "source": [
        "### End sidebar"
      ]
    },
    {
      "cell_type": "markdown",
      "metadata": {
        "id": "0NZKF8hUTlo3"
      },
      "source": [
        "## Validation Sets and Test Sets"
      ]
    },
    {
      "cell_type": "markdown",
      "metadata": {
        "id": "PaEmN19bTlo4"
      },
      "source": [
        "### Use Judgment in Defining Test Sets"
      ]
    },
    {
      "cell_type": "markdown",
      "metadata": {
        "id": "qYxgE3IXTlo4"
      },
      "source": [
        "## A _Choose Your Own Adventure_ moment"
      ]
    },
    {
      "cell_type": "markdown",
      "metadata": {
        "id": "kZ3COLV4Tlo4"
      },
      "source": [
        "## Questionnaire"
      ]
    },
    {
      "cell_type": "markdown",
      "metadata": {
        "id": "xCRcDor7Tlo4"
      },
      "source": [
        "It can be hard to know in pages and pages of prose what the key things are that you really need to focus on and remember. So, we've prepared a list of questions and suggested steps to complete at the end of each chapter. All the answers are in the text of the chapter, so if you're not sure about anything here, reread that part of the text and make sure you understand it. Answers to all these questions are also available on the [book's website](https://book.fast.ai). You can also visit [the forums](https://forums.fast.ai) if you get stuck to get help from other folks studying this material.\n",
        "\n",
        "For more questions, including detailed answers and links to the video timeline, have a look at Radek Osmulski's [aiquizzes](http://aiquizzes.com/howto)."
      ]
    },
    {
      "cell_type": "markdown",
      "metadata": {
        "id": "R73jicoeTlo5"
      },
      "source": [
        "1. Do you need these for deep learning?\n",
        "\n",
        "   - Lots of math F\n",
        "   - Lots of data F\n",
        "   - Lots of expensive computers F\n",
        "   - A PhD F\n",
        "   \n",
        "1. Name five areas where deep learning is now the best in the world.\n",
        "\n",
        "    - NLP\n",
        "    - Computer Vision\n",
        "    - Recommendation Systems\n",
        "    - Medicine\n",
        "    - Image Generation\n",
        "1. What was the name of the first device that was based on the principle of the artificial neuron?\n",
        "    - Perceptron\n",
        "1. Based on the book of the same name, what are the requirements for parallel distributed processing (PDP)?\n",
        "    - A set of processing units.\n",
        "    - A state of activation.\n",
        "    - An output function for each unit.\n",
        "    - A pattern of connectivity among units.\n",
        "    - A propagation rule for propagating patterns of activities through the network of connectivities.\n",
        "    - An activation rule for combining the inputs impinging on a unit with the current state of that unit to produce an output for the unit.\n",
        "    - A learning rule whereby patterns of connectivity are modified by experience.\n",
        "    - An environment within which the system must operate.\n",
        "1. What were the two theoretical misunderstandings that held back the field of neural networks?\n",
        "    - You needed to add more layers to a neural network in order to make it faster.\n",
        "    - Therefore, neural networks at the time only used two layers as theoretically, a neural network with only two layers could approximate any function to any degree of accuracy (universal approximation theorem).\n",
        "1. What is a GPU?\n",
        "    - A graphics processing unit is a processor which can handle numerous single tasks at the same time. This is useful for machine learning since we are often applying transformations on numerous items in a batch.\n",
        "1. Open a notebook and execute a cell containing: `1+1`. What happens?\n",
        "    - The number 2 is printed to the screen.\n",
        "1. Follow through each cell of the stripped version of the notebook for this chapter. Before executing each cell, guess what will happen.\n",
        "1. Complete the Jupyter Notebook online appendix.\n",
        "1. Why is it hard to use a traditional computer program to recognize images in a photo?\n",
        "    - You have to specify the exact steps that the computer has to take in order to recognize a photo.\n",
        "1. What did Samuel mean by \"weight assignment\"?\n",
        "    - Weights are variables that can be assigned. Therefore, weight assignment is the act of choosing values for these weights and these weights determine how the model will operate.\n",
        "1. What term do we normally use in deep learning for what Samuel called \"weights\"?\n",
        "    - Parameters.\n",
        "1. Draw a picture that summarizes Samuel's view of a machine learning model.\n",
        "1. Why is it hard to understand why a deep learning model makes a particular prediction?\n",
        "1. What is the name of the theorem that shows that a neural network can solve any mathematical problem to any level of accuracy?\n",
        "    - Universal approximatin theorem.\n",
        "1. What do you need in order to train a model?\n",
        "    - Labelled data.\n",
        "1. How could a feedback loop impact the rollout of a predictive policing model?\n",
        "    - If the model is trained on biased data, then the rollout of a predictive model could cause a positive feedback loop where the model itself generates more biased data which it is then trained on again, hence causing a loop which makes the model more biased.\n",
        "1. Do we always have to use 224×224-pixel images with the cat recognition model?\n",
        "    - No, although it is a standard size to choose. Decreasing the number of pixels decreases training time but also decreases accuracy. Increasing the number of pixels on the other hand increases training time but can also increase accuracy.\n",
        "1. What is the difference between classification and regression?\n",
        "    - Classification is when you are trying to predict if some input data is of a certain category.\n",
        "    - Regression is when you are trying to predict some numerical (continuous) value.\n",
        "1. What is a validation set? What is a test set? Why do we need them?\n",
        "    - A validation set is some data that you set aside for testing purposes. It is used to gauge how well the model is performing - the metrics that you see are all done using the validation set. The validation set is not used to train the model so when the model does inference on it, it is unseen data.\n",
        "1. What will fastai do if you don't provide a validation set?\n",
        "    - If you do not provide a validation set, fastai will automatically set aside 20% of the data for the validation set. This is specified by valid_pct=0.2.\n",
        "1. Can we always use a random sample for a validation set? Why or why not?\n",
        "    - No. If the data is time-series data where to order is important, then using a random sample doesn't make sense. We can also set a random seed so that we get the same validation set every time.\n",
        "1. What is overfitting? Provide an example.\n",
        "    - Overfitting is when the model only learns to 'remember' the training set meaning that when it sees unseen data, it makes bad predictions leading to bad metrics.\n",
        "1. What is a metric? How does it differ from \"loss\"?\n",
        "    - A metric tells us how well the model is doing. It differs from loss in the sense that loss is what is used to improve the parameters.\n",
        "1. How can pretrained models help?\n",
        "    - Using pretrained models means that your model is already good at doing a task that is related to what you are trying to do. This decreases training time, the amount of data you need and it can even improve accuracy. This is known as transfer learning.\n",
        "1. What is the \"head\" of a model?\n",
        "    - The head of the model is the part that is added on to be specific to the task that you are trying to complete.\n",
        "1. What kinds of features do the early layers of a CNN find? How about the later layers?\n",
        "    - The first few layers learn to find basic patterns such as vertical and horizontal edges. The later layers learn to find more complex patterns such as faces of dogs.\n",
        "1. Are image models only useful for photos?\n",
        "    - Image models can be used for any data that can be converted into an image such as audio data, time-series data etc.\n",
        "1. What is an \"architecture\"?\n",
        "    - The template of the model that we are trying to fit. This is the mathematical function that we are passing the input data and parameters to.\n",
        "1. What is segmentation?\n",
        "    - Segmentation is the task of trying to assign a class to each individual pixel of an image. For example, in an image, you may want to find road markings, buildings, people etc.\n",
        "1. What is `y_range` used for? When do we need it?\n",
        "    - y_range is used when the value we are predicting is a continuous number. It tells the model the range of valid y values. For example, when we are predicting review scores, we can use y_range.\n",
        "1. What are \"hyperparameters\"?\n",
        "    - Hyerparametrs are parameters that we can choose that changes the meaning of parameters.\n",
        "1. What's the best way to avoid failures when using AI in an organization?\n",
        "    - Understand what training and validation sets are."
      ]
    },
    {
      "cell_type": "markdown",
      "metadata": {
        "id": "ChGmYtN_Tlo5"
      },
      "source": [
        "### Further Research"
      ]
    },
    {
      "cell_type": "markdown",
      "metadata": {
        "id": "FiIbcN8aTlo5"
      },
      "source": [
        "Each chapter also has a \"Further Research\" section that poses questions that aren't fully answered in the text, or gives more advanced assignments. Answers to these questions aren't on the book's website; you'll need to do your own research!"
      ]
    },
    {
      "cell_type": "markdown",
      "metadata": {
        "id": "2iLxrUI0Tlo6"
      },
      "source": [
        "1. Why is a GPU useful for deep learning? How is a CPU different, and why is it less effective for deep learning?\n",
        "1. Try to think of three areas where feedback loops might impact the use of machine learning. See if you can find documented examples of that happening in practice."
      ]
    },
    {
      "cell_type": "code",
      "metadata": {
        "id": "nceO20PmTlo6"
      },
      "source": [
        ""
      ],
      "execution_count": null,
      "outputs": []
    }
  ]
}