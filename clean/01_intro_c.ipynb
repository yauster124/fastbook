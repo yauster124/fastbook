{
  "nbformat": 4,
  "nbformat_minor": 0,
  "metadata": {
    "jupytext": {
      "split_at_heading": true
    },
    "kernelspec": {
      "display_name": "Python 3",
      "language": "python",
      "name": "python3"
    },
    "colab": {
      "name": "01_intro.ipynb",
      "provenance": []
    }
  },
  "cells": [
    {
      "cell_type": "code",
      "metadata": {
        "id": "G_XUlcq-SqSX"
      },
      "source": [
        "#hide\n",
        "!pip install -Uqq fastbook\n",
        "import fastbook\n",
        "fastbook.setup_book()"
      ],
      "execution_count": null,
      "outputs": []
    },
    {
      "cell_type": "code",
      "metadata": {
        "id": "SSKlt0AYSqSf"
      },
      "source": [
        "#hide\n",
        "from fastbook import *"
      ],
      "execution_count": null,
      "outputs": []
    },
    {
      "cell_type": "markdown",
      "metadata": {
        "id": "sTGvDXhoSqSg"
      },
      "source": [
        "# Your Deep Learning Journey"
      ]
    },
    {
      "cell_type": "markdown",
      "metadata": {
        "id": "6sYbcZy7SqSg"
      },
      "source": [
        "## Deep Learning Is for Everyone"
      ]
    },
    {
      "cell_type": "markdown",
      "metadata": {
        "id": "7msRaCHhSqSg"
      },
      "source": [
        "## Neural Networks: A Brief History"
      ]
    },
    {
      "cell_type": "markdown",
      "metadata": {
        "id": "O-dioi6iSqSh"
      },
      "source": [
        "## Who We Are"
      ]
    },
    {
      "cell_type": "markdown",
      "metadata": {
        "id": "rnGvyezHSqSh"
      },
      "source": [
        "## How to Learn Deep Learning"
      ]
    },
    {
      "cell_type": "markdown",
      "metadata": {
        "id": "8alj9S9LSqSh"
      },
      "source": [
        "### Your Projects and Your Mindset"
      ]
    },
    {
      "cell_type": "markdown",
      "metadata": {
        "id": "HhAe9L6SSqSh"
      },
      "source": [
        "## The Software: PyTorch, fastai, and Jupyter"
      ]
    },
    {
      "cell_type": "markdown",
      "metadata": {
        "id": "BPPYRuMOSqSi"
      },
      "source": [
        "## Your First Model"
      ]
    },
    {
      "cell_type": "markdown",
      "metadata": {
        "id": "1_PeHnziSqSi"
      },
      "source": [
        "### Getting a GPU Deep Learning Server"
      ]
    },
    {
      "cell_type": "markdown",
      "metadata": {
        "id": "utyEdujnSqSi"
      },
      "source": [
        "### Running Your First Notebook"
      ]
    },
    {
      "cell_type": "code",
      "metadata": {
        "id": "1ab10rj0SqSi"
      },
      "source": [
        "# CLICK ME\n",
        "from fastai.vision.all import *\n",
        "path = untar_data(URLs.PETS)/'images'\n",
        "\n",
        "def is_cat(x): return x[0].isupper()\n",
        "dls = ImageDataLoaders.from_name_func(\n",
        "    path, get_image_files(path), valid_pct=0.2, seed=42,\n",
        "    label_func=is_cat, item_tfms=Resize(224))\n",
        "\n",
        "learn = cnn_learner(dls, resnet34, metrics=error_rate)\n",
        "learn.fine_tune(1)"
      ],
      "execution_count": null,
      "outputs": []
    },
    {
      "cell_type": "markdown",
      "metadata": {
        "id": "jXzfd4wpSqSj"
      },
      "source": [
        "### Sidebar: This Book Was Written in Jupyter Notebooks"
      ]
    },
    {
      "cell_type": "code",
      "metadata": {
        "id": "5tFGSPH7S62i"
      },
      "source": [
        "2+2"
      ],
      "execution_count": null,
      "outputs": []
    },
    {
      "cell_type": "code",
      "metadata": {
        "id": "euvJz6xcTJ4h"
      },
      "source": [
        "3+3"
      ],
      "execution_count": null,
      "outputs": []
    },
    {
      "cell_type": "code",
      "metadata": {
        "id": "wGrVIukpSqSj"
      },
      "source": [
        "1+1"
      ],
      "execution_count": null,
      "outputs": []
    },
    {
      "cell_type": "code",
      "metadata": {
        "id": "H1b9zIL_SqSj"
      },
      "source": [
        "img = PILImage.create(image_cat())\n",
        "img.to_thumb(192)"
      ],
      "execution_count": null,
      "outputs": []
    },
    {
      "cell_type": "markdown",
      "metadata": {
        "id": "q2v_ljjbSqSj"
      },
      "source": [
        "### End sidebar"
      ]
    },
    {
      "cell_type": "code",
      "metadata": {
        "id": "FZ_sGXJLSqSk"
      },
      "source": [
        "uploader = widgets.FileUpload()\n",
        "uploader"
      ],
      "execution_count": null,
      "outputs": []
    },
    {
      "cell_type": "code",
      "metadata": {
        "id": "1dd7cIubSqSk"
      },
      "source": [
        "#hide\n",
        "# For the book, we can't actually click an upload button, so we fake it\n",
        "uploader = SimpleNamespace(data = ['images/chapter1_cat_example.jpg'])"
      ],
      "execution_count": null,
      "outputs": []
    },
    {
      "cell_type": "code",
      "metadata": {
        "id": "ez1CTwIHSqSk"
      },
      "source": [
        "img = PILImage.create(uploader.data[0])\n",
        "is_cat,_,probs = learn.predict(img)\n",
        "print(f\"Is this a cat?: {is_cat}.\")\n",
        "print(f\"Probability it's a cat: {probs[1].item():.6f}\")"
      ],
      "execution_count": null,
      "outputs": []
    },
    {
      "cell_type": "markdown",
      "metadata": {
        "id": "0g7hLJAoSqSk"
      },
      "source": [
        "### What Is Machine Learning?"
      ]
    },
    {
      "cell_type": "code",
      "metadata": {
        "id": "QNKAsIF9SqSk"
      },
      "source": [
        "gv('''program[shape=box3d width=1 height=0.7]\n",
        "inputs->program->results''')"
      ],
      "execution_count": null,
      "outputs": []
    },
    {
      "cell_type": "code",
      "metadata": {
        "id": "WlKEizfmSqSl"
      },
      "source": [
        "gv('''model[shape=box3d width=1 height=0.7]\n",
        "inputs->model->results; weights->model''')"
      ],
      "execution_count": null,
      "outputs": []
    },
    {
      "cell_type": "code",
      "metadata": {
        "id": "tXfIXBgXSqSl"
      },
      "source": [
        "gv('''ordering=in\n",
        "model[shape=box3d width=1 height=0.7]\n",
        "inputs->model->results; weights->model; results->performance\n",
        "performance->weights[constraint=false label=update]''')"
      ],
      "execution_count": null,
      "outputs": []
    },
    {
      "cell_type": "code",
      "metadata": {
        "id": "CbJM_X5XSqSl"
      },
      "source": [
        "gv('''model[shape=box3d width=1 height=0.7]\n",
        "inputs->model->results''')"
      ],
      "execution_count": null,
      "outputs": []
    },
    {
      "cell_type": "markdown",
      "metadata": {
        "id": "HJ2dElFCSqSl"
      },
      "source": [
        "### What Is a Neural Network?"
      ]
    },
    {
      "cell_type": "markdown",
      "metadata": {
        "id": "9fMcbVMKSqSl"
      },
      "source": [
        "### A Bit of Deep Learning Jargon"
      ]
    },
    {
      "cell_type": "code",
      "metadata": {
        "id": "jPEnrFhISqSm"
      },
      "source": [
        "gv('''ordering=in\n",
        "model[shape=box3d width=1 height=0.7 label=architecture]\n",
        "inputs->model->predictions; parameters->model; labels->loss; predictions->loss\n",
        "loss->parameters[constraint=false label=update]''')"
      ],
      "execution_count": null,
      "outputs": []
    },
    {
      "cell_type": "markdown",
      "metadata": {
        "id": "jNLNTUeqSqSm"
      },
      "source": [
        "### Limitations Inherent To Machine Learning\n",
        "\n",
        "From this picture we can now see some fundamental things about training a deep learning model:\n",
        "\n",
        "- A model cannot be created without data.\n",
        "- A model can only learn to operate on the patterns seen in the input data used to train it.\n",
        "- This learning approach only creates *predictions*, not recommended *actions*.\n",
        "- It's not enough to just have examples of input data; we need *labels* for that data too (e.g., pictures of dogs and cats aren't enough to train a model; we need a label for each one, saying which ones are dogs, and which are cats).\n",
        "\n",
        "Generally speaking, we've seen that most organizations that say they don't have enough data, actually mean they don't have enough *labeled* data. If any organization is interested in doing something in practice with a model, then presumably they have some inputs they plan to run their model against. And presumably they've been doing that some other way for a while (e.g., manually, or with some heuristic program), so they have data from those processes! For instance, a radiology practice will almost certainly have an archive of medical scans (since they need to be able to check how their patients are progressing over time), but those scans may not have structured labels containing a list of diagnoses or interventions (since radiologists generally create free-text natural language reports, not structured data). We'll be discussing labeling approaches a lot in this book, because it's such an important issue in practice.\n",
        "\n",
        "Since these kinds of machine learning models can only make *predictions* (i.e., attempt to replicate labels), this can result in a significant gap between organizational goals and model capabilities. For instance, in this book you'll learn how to create a *recommendation system* that can predict what products a user might purchase. This is often used in e-commerce, such as to customize products shown on a home page by showing the highest-ranked items. But such a model is generally created by looking at a user and their buying history (*inputs*) and what they went on to buy or look at (*labels*), which means that the model is likely to tell you about products the user already has or already knows about, rather than new products that they are most likely to be interested in hearing about. That's very different to what, say, an expert at your local bookseller might do, where they ask questions to figure out your taste, and then tell you about authors or series that you've never heard of before."
      ]
    },
    {
      "cell_type": "markdown",
      "metadata": {
        "id": "onX82MnqSqSm"
      },
      "source": [
        "### How Our Image Recognizer Works"
      ]
    },
    {
      "cell_type": "markdown",
      "metadata": {
        "id": "dxTyQhORSqSn"
      },
      "source": [
        "### What Our Image Recognizer Learned"
      ]
    },
    {
      "cell_type": "markdown",
      "metadata": {
        "id": "JsBp3ktaSqSn"
      },
      "source": [
        "### Image Recognizers Can Tackle Non-Image Tasks"
      ]
    },
    {
      "cell_type": "markdown",
      "metadata": {
        "id": "vHFDIxSuSqSn"
      },
      "source": [
        "### Jargon Recap"
      ]
    },
    {
      "cell_type": "markdown",
      "metadata": {
        "id": "LaGnLScSSqSn"
      },
      "source": [
        "## Deep Learning Is Not Just for Image Classification"
      ]
    },
    {
      "cell_type": "code",
      "metadata": {
        "id": "7L-srvnLSqSn"
      },
      "source": [
        "path = untar_data(URLs.CAMVID_TINY)\n",
        "dls = SegmentationDataLoaders.from_label_func(\n",
        "    path, bs=8, fnames = get_image_files(path/\"images\"),\n",
        "    label_func = lambda o: path/'labels'/f'{o.stem}_P{o.suffix}',\n",
        "    codes = np.loadtxt(path/'codes.txt', dtype=str)\n",
        ")\n",
        "\n",
        "learn = unet_learner(dls, resnet34)\n",
        "learn.fine_tune(8)"
      ],
      "execution_count": null,
      "outputs": []
    },
    {
      "cell_type": "code",
      "metadata": {
        "id": "h1ANBNG3SqSn"
      },
      "source": [
        "learn.show_results(max_n=6, figsize=(7,8))"
      ],
      "execution_count": null,
      "outputs": []
    },
    {
      "cell_type": "code",
      "metadata": {
        "id": "l5eg_YXuSqSo"
      },
      "source": [
        "from fastai.text.all import *\n",
        "\n",
        "dls = TextDataLoaders.from_folder(untar_data(URLs.IMDB), valid='test')\n",
        "learn = text_classifier_learner(dls, AWD_LSTM, drop_mult=0.5, metrics=accuracy)\n",
        "learn.fine_tune(4, 1e-2)"
      ],
      "execution_count": null,
      "outputs": []
    },
    {
      "cell_type": "markdown",
      "metadata": {
        "id": "9R-UGQ1ISqSo"
      },
      "source": [
        "If you hit a \"CUDA out of memory error\" after running this cell, click on the menu Kernel, then restart. Instead of executing the cell above, copy and paste the following code in it:\n",
        "\n",
        "```\n",
        "from fastai.text.all import *\n",
        "\n",
        "dls = TextDataLoaders.from_folder(untar_data(URLs.IMDB), valid='test', bs=32)\n",
        "learn = text_classifier_learner(dls, AWD_LSTM, drop_mult=0.5, metrics=accuracy)\n",
        "learn.fine_tune(4, 1e-2)\n",
        "```\n",
        "\n",
        "This reduces the batch size to 32 (we will explain this later). If you keep hitting the same error, change 32 to 16."
      ]
    },
    {
      "cell_type": "code",
      "metadata": {
        "id": "QZhg5FUiSqSo"
      },
      "source": [
        "learn.predict(\"I really liked that movie!\")"
      ],
      "execution_count": null,
      "outputs": []
    },
    {
      "cell_type": "markdown",
      "metadata": {
        "id": "m4_RgeB0SqSq"
      },
      "source": [
        "### Sidebar: The Order Matters"
      ]
    },
    {
      "cell_type": "markdown",
      "metadata": {
        "id": "uoNetFcRSqSq"
      },
      "source": [
        "### End sidebar"
      ]
    },
    {
      "cell_type": "code",
      "metadata": {
        "id": "IFjhxHDlSqSq"
      },
      "source": [
        "from fastai.tabular.all import *\n",
        "path = untar_data(URLs.ADULT_SAMPLE)\n",
        "\n",
        "dls = TabularDataLoaders.from_csv(path/'adult.csv', path=path, y_names=\"salary\",\n",
        "    cat_names = ['workclass', 'education', 'marital-status', 'occupation',\n",
        "                 'relationship', 'race'],\n",
        "    cont_names = ['age', 'fnlwgt', 'education-num'],\n",
        "    procs = [Categorify, FillMissing, Normalize])\n",
        "\n",
        "learn = tabular_learner(dls, metrics=accuracy)"
      ],
      "execution_count": null,
      "outputs": []
    },
    {
      "cell_type": "code",
      "metadata": {
        "id": "vXEIBNn0SqSr"
      },
      "source": [
        "learn.fit_one_cycle(3)"
      ],
      "execution_count": null,
      "outputs": []
    },
    {
      "cell_type": "code",
      "metadata": {
        "id": "_Qs2NuOISqSr"
      },
      "source": [
        "from fastai.collab import *\n",
        "path = untar_data(URLs.ML_SAMPLE)\n",
        "dls = CollabDataLoaders.from_csv(path/'ratings.csv')\n",
        "learn = collab_learner(dls, y_range=(0.5,5.5))\n",
        "learn.fine_tune(10)"
      ],
      "execution_count": null,
      "outputs": []
    },
    {
      "cell_type": "code",
      "metadata": {
        "id": "4j_i-j10SqSr"
      },
      "source": [
        "learn.show_results()"
      ],
      "execution_count": null,
      "outputs": []
    },
    {
      "cell_type": "markdown",
      "metadata": {
        "id": "3JRIyan2SqSr"
      },
      "source": [
        "### Sidebar: Datasets: Food for Models"
      ]
    },
    {
      "cell_type": "markdown",
      "metadata": {
        "id": "_05WRRLvSqSr"
      },
      "source": [
        "### End sidebar"
      ]
    },
    {
      "cell_type": "markdown",
      "metadata": {
        "id": "tU17yR1tSqSr"
      },
      "source": [
        "## Validation Sets and Test Sets"
      ]
    },
    {
      "cell_type": "markdown",
      "metadata": {
        "id": "BNZ6hZ6rSqSs"
      },
      "source": [
        "### Use Judgment in Defining Test Sets"
      ]
    },
    {
      "cell_type": "markdown",
      "metadata": {
        "id": "ljG6x2OSSqSs"
      },
      "source": [
        "## A _Choose Your Own Adventure_ moment"
      ]
    },
    {
      "cell_type": "markdown",
      "metadata": {
        "id": "86360g1FSqSs"
      },
      "source": [
        "## Questionnaire"
      ]
    },
    {
      "cell_type": "markdown",
      "metadata": {
        "id": "IwO2VZVQSqSs"
      },
      "source": [
        "It can be hard to know in pages and pages of prose what the key things are that you really need to focus on and remember. So, we've prepared a list of questions and suggested steps to complete at the end of each chapter. All the answers are in the text of the chapter, so if you're not sure about anything here, reread that part of the text and make sure you understand it. Answers to all these questions are also available on the [book's website](https://book.fast.ai). You can also visit [the forums](https://forums.fast.ai) if you get stuck to get help from other folks studying this material.\n",
        "\n",
        "For more questions, including detailed answers and links to the video timeline, have a look at Radek Osmulski's [aiquizzes](http://aiquizzes.com/howto)."
      ]
    },
    {
      "cell_type": "markdown",
      "metadata": {
        "id": "t7pRHmnmSqSt"
      },
      "source": [
        "1. Do you need these for deep learning?\n",
        "\n",
        "   - Lots of math T / F\n",
        "   - Lots of data T / F\n",
        "   - Lots of expensive computers T / F\n",
        "   - A PhD T / F\n",
        "   \n",
        "1. Name five areas where deep learning is now the best in the world.\n",
        "1. What was the name of the first device that was based on the principle of the artificial neuron?\n",
        "1. Based on the book of the same name, what are the requirements for parallel distributed processing (PDP)?\n",
        "1. What were the two theoretical misunderstandings that held back the field of neural networks?\n",
        "1. What is a GPU?\n",
        "1. Open a notebook and execute a cell containing: `1+1`. What happens?\n",
        "1. Follow through each cell of the stripped version of the notebook for this chapter. Before executing each cell, guess what will happen.\n",
        "1. Complete the Jupyter Notebook online appendix.\n",
        "1. Why is it hard to use a traditional computer program to recognize images in a photo?\n",
        "1. What did Samuel mean by \"weight assignment\"?\n",
        "1. What term do we normally use in deep learning for what Samuel called \"weights\"?\n",
        "1. Draw a picture that summarizes Samuel's view of a machine learning model.\n",
        "1. Why is it hard to understand why a deep learning model makes a particular prediction?\n",
        "1. What is the name of the theorem that shows that a neural network can solve any mathematical problem to any level of accuracy?\n",
        "1. What do you need in order to train a model?\n",
        "1. How could a feedback loop impact the rollout of a predictive policing model?\n",
        "1. Do we always have to use 224×224-pixel images with the cat recognition model?\n",
        "1. What is the difference between classification and regression?\n",
        "1. What is a validation set? What is a test set? Why do we need them?\n",
        "1. What will fastai do if you don't provide a validation set?\n",
        "1. Can we always use a random sample for a validation set? Why or why not?\n",
        "1. What is overfitting? Provide an example.\n",
        "1. What is a metric? How does it differ from \"loss\"?\n",
        "1. How can pretrained models help?\n",
        "1. What is the \"head\" of a model?\n",
        "1. What kinds of features do the early layers of a CNN find? How about the later layers?\n",
        "1. Are image models only useful for photos?\n",
        "1. What is an \"architecture\"?\n",
        "1. What is segmentation?\n",
        "1. What is `y_range` used for? When do we need it?\n",
        "1. What are \"hyperparameters\"?\n",
        "1. What's the best way to avoid failures when using AI in an organization?"
      ]
    },
    {
      "cell_type": "markdown",
      "metadata": {
        "id": "O9T2-QadSqSt"
      },
      "source": [
        "### Further Research"
      ]
    },
    {
      "cell_type": "markdown",
      "metadata": {
        "id": "Wuc2CktISqSt"
      },
      "source": [
        "Each chapter also has a \"Further Research\" section that poses questions that aren't fully answered in the text, or gives more advanced assignments. Answers to these questions aren't on the book's website; you'll need to do your own research!"
      ]
    },
    {
      "cell_type": "markdown",
      "metadata": {
        "id": "s9nLaaI7SqSu"
      },
      "source": [
        "1. Why is a GPU useful for deep learning? How is a CPU different, and why is it less effective for deep learning?\n",
        "1. Try to think of three areas where feedback loops might impact the use of machine learning. See if you can find documented examples of that happening in practice."
      ]
    },
    {
      "cell_type": "code",
      "metadata": {
        "id": "hXhEzm4wSqSu"
      },
      "source": [
        ""
      ],
      "execution_count": null,
      "outputs": []
    }
  ]
}